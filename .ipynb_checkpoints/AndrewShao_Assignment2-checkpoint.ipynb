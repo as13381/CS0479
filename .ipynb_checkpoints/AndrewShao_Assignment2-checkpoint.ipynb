{
 "cells": [
  {
   "cell_type": "markdown",
   "metadata": {
    "id": "AEyXR_pYYq7Y"
   },
   "source": [
    "Question 1"
   ]
  },
  {
   "cell_type": "code",
   "execution_count": 128,
   "metadata": {
    "colab": {
     "base_uri": "https://localhost:8080/"
    },
    "executionInfo": {
     "elapsed": 181,
     "status": "ok",
     "timestamp": 1697485923446,
     "user": {
      "displayName": "Andrew Shao",
      "userId": "09815438346545805301"
     },
     "user_tz": 240
    },
    "id": "GE4sgzVjYite",
    "outputId": "5acbe5cf-8eda-42bf-ee2a-ec02f5c52641"
   },
   "outputs": [
    {
     "name": "stdout",
     "output_type": "stream",
     "text": [
      "[[ 5 15 25  5 15 25]\n",
      " [ 5 15 25  5 15 25]\n",
      " [ 5 15 25  5 15 25]\n",
      " [ 5 15 25  5 15 25]\n",
      " [ 5 15 25  5 15 25]]\n"
     ]
    }
   ],
   "source": [
    "import numpy as np\n",
    "\n",
    "arr = np.tile(np.array([5, 15, 25]), (5, 2))\n",
    "\n",
    "print(arr)\n"
   ]
  },
  {
   "cell_type": "markdown",
   "metadata": {
    "id": "yfs9jwdSbU1_"
   },
   "source": [
    "Question 2"
   ]
  },
  {
   "cell_type": "code",
   "execution_count": 40,
   "metadata": {
    "colab": {
     "base_uri": "https://localhost:8080/"
    },
    "executionInfo": {
     "elapsed": 11,
     "status": "ok",
     "timestamp": 1697487273799,
     "user": {
      "displayName": "Andrew Shao",
      "userId": "09815438346545805301"
     },
     "user_tz": 240
    },
    "id": "PAv9Qunea6fD",
    "outputId": "7c1cadf9-c41d-4929-b101-2c55cea88903"
   },
   "outputs": [
    {
     "name": "stdout",
     "output_type": "stream",
     "text": [
      "[[1. 1. 1. 1. 1. 1. 1. 1. 1.]\n",
      " [1. 0. 0. 0. 0. 0. 0. 0. 1.]\n",
      " [1. 0. 1. 1. 1. 1. 1. 0. 1.]\n",
      " [1. 0. 1. 0. 0. 0. 1. 0. 1.]\n",
      " [1. 0. 1. 0. 1. 0. 1. 0. 1.]\n",
      " [1. 0. 1. 0. 0. 0. 1. 0. 1.]\n",
      " [1. 0. 1. 1. 1. 1. 1. 0. 1.]\n",
      " [1. 0. 0. 0. 0. 0. 0. 0. 1.]\n",
      " [1. 1. 1. 1. 1. 1. 1. 1. 1.]]\n",
      "[[1. 1. 1. 1. 1. 1. 1. 1. 1.]\n",
      " [1. 0. 0. 0. 0. 0. 0. 0. 1.]\n",
      " [1. 0. 1. 1. 1. 1. 1. 0. 1.]\n",
      " [1. 0. 1. 0. 0. 0. 1. 0. 1.]\n",
      " [1. 0. 1. 0. 1. 0. 1. 0. 1.]\n",
      " [1. 0. 1. 0. 0. 0. 1. 0. 1.]\n",
      " [1. 0. 1. 1. 1. 1. 1. 0. 1.]\n",
      " [1. 0. 0. 0. 0. 0. 0. 0. 1.]\n",
      " [1. 1. 1. 1. 1. 1. 1. 1. 1.]]\n"
     ]
    }
   ],
   "source": [
    "dim = 9\n",
    "arr0 = np.zeros((dim, dim))\n",
    "for i in range(dim // 4 + 1):\n",
    "    for j in range(0 + 2 * i, dim - 2 * i):\n",
    "        arr0[0 + 2 * i][j] = 1\n",
    "        arr0[dim - 1 - 2 * i][j] = 1\n",
    "        arr0[j][0 + 2 * i] = 1\n",
    "        arr0[j][dim - 1 - 2 * i] = 1\n",
    "\n",
    "print(arr0)\n",
    "\n",
    "arr1 = np.zeros((3, 3))\n",
    "arr1[1][1] = 1\n",
    "arr1 = np.pad(arr1, 1, mode='constant', constant_values=1)\n",
    "arr1 = np.pad(arr1, 1, mode='constant', constant_values=0)\n",
    "arr1 = np.pad(arr1, 1, mode='constant', constant_values=1)\n",
    "\n",
    "print(arr1)\n"
   ]
  },
  {
   "cell_type": "markdown",
   "metadata": {
    "id": "yTeXmRW3J9nu"
   },
   "source": [
    "Question 3"
   ]
  },
  {
   "cell_type": "code",
   "execution_count": 41,
   "metadata": {
    "colab": {
     "base_uri": "https://localhost:8080/"
    },
    "executionInfo": {
     "elapsed": 12,
     "status": "ok",
     "timestamp": 1697487961822,
     "user": {
      "displayName": "Andrew Shao",
      "userId": "09815438346545805301"
     },
     "user_tz": 240
    },
    "id": "X_5QLWjSJ_VC",
    "outputId": "79b87872-72c9-4e41-f254-20826de3a9d2"
   },
   "outputs": [
    {
     "name": "stdout",
     "output_type": "stream",
     "text": [
      "[['R' 'H' 'B' 'Q' 'K' 'B' 'H' 'R']\n",
      " ['P' 'P' 'P' 'P' 'P' 'P' 'P' 'P']\n",
      " [' ' ' ' ' ' ' ' ' ' ' ' ' ' ' ']\n",
      " [' ' ' ' ' ' ' ' ' ' ' ' ' ' ' ']\n",
      " [' ' ' ' ' ' ' ' ' ' ' ' ' ' ' ']\n",
      " [' ' ' ' ' ' ' ' ' ' ' ' ' ' ' ']\n",
      " ['P' 'P' 'P' 'P' 'P' 'P' 'P' 'P']\n",
      " ['R' 'H' 'B' 'Q' 'K' 'B' 'H' 'R']]\n"
     ]
    }
   ],
   "source": [
    "chessboard = np.full((8, 8), ' ')\n",
    "chessboard[[0, 7]] = ['R', 'H', 'B', 'Q', 'K', 'B', 'H', 'R']\n",
    "chessboard[[1, 6]] = ['P'] * 8\n",
    "\n",
    "print(chessboard)\n"
   ]
  },
  {
   "cell_type": "markdown",
   "metadata": {
    "id": "H-UKHgitKv5X"
   },
   "source": [
    "Question 4"
   ]
  },
  {
   "cell_type": "code",
   "execution_count": 129,
   "metadata": {
    "colab": {
     "base_uri": "https://localhost:8080/"
    },
    "executionInfo": {
     "elapsed": 141,
     "status": "ok",
     "timestamp": 1697490189598,
     "user": {
      "displayName": "Andrew Shao",
      "userId": "09815438346545805301"
     },
     "user_tz": 240
    },
    "id": "iJHIlQe0KxFg",
    "outputId": "214bffa3-e9e6-4273-df08-c92868b1fe28"
   },
   "outputs": [
    {
     "name": "stdout",
     "output_type": "stream",
     "text": [
      "[ 2  3  5  7 11 13 17 19 23 29 31 37 41 43 47 53 59 61 67 71 73 79 83 89\n",
      " 97]\n"
     ]
    }
   ],
   "source": [
    "primes = np.arange(1, 101)\n",
    "primes[0] = 0\n",
    "for i in [2, 3, 5, 7]:\n",
    "    primes[2 * i - 1::i] = 0\n",
    "primes = primes[primes > 0]\n",
    "\n",
    "print(primes)\n"
   ]
  },
  {
   "cell_type": "markdown",
   "metadata": {
    "id": "O0y7K_tuTNmy"
   },
   "source": [
    "Question 5"
   ]
  },
  {
   "cell_type": "code",
   "execution_count": 130,
   "metadata": {
    "id": "rUUK5SYHTOoc"
   },
   "outputs": [
    {
     "data": {
      "text/html": [
       "<div>\n",
       "<style scoped>\n",
       "    .dataframe tbody tr th:only-of-type {\n",
       "        vertical-align: middle;\n",
       "    }\n",
       "\n",
       "    .dataframe tbody tr th {\n",
       "        vertical-align: top;\n",
       "    }\n",
       "\n",
       "    .dataframe thead th {\n",
       "        text-align: right;\n",
       "    }\n",
       "</style>\n",
       "<table border=\"1\" class=\"dataframe\">\n",
       "  <thead>\n",
       "    <tr style=\"text-align: right;\">\n",
       "      <th></th>\n",
       "      <th>Income</th>\n",
       "      <th>Height</th>\n",
       "    </tr>\n",
       "  </thead>\n",
       "  <tbody>\n",
       "    <tr>\n",
       "      <th>0</th>\n",
       "      <td>40000</td>\n",
       "      <td>60.500000</td>\n",
       "    </tr>\n",
       "    <tr>\n",
       "      <th>1</th>\n",
       "      <td>35000</td>\n",
       "      <td>59.600000</td>\n",
       "    </tr>\n",
       "    <tr>\n",
       "      <th>2</th>\n",
       "      <td>45000</td>\n",
       "      <td>66.433333</td>\n",
       "    </tr>\n",
       "    <tr>\n",
       "      <th>3</th>\n",
       "      <td>150000</td>\n",
       "      <td>73.400000</td>\n",
       "    </tr>\n",
       "    <tr>\n",
       "      <th>4</th>\n",
       "      <td>90000</td>\n",
       "      <td>65.900000</td>\n",
       "    </tr>\n",
       "    <tr>\n",
       "      <th>5</th>\n",
       "      <td>150000</td>\n",
       "      <td>72.400000</td>\n",
       "    </tr>\n",
       "    <tr>\n",
       "      <th>6</th>\n",
       "      <td>115000</td>\n",
       "      <td>66.433333</td>\n",
       "    </tr>\n",
       "    <tr>\n",
       "      <th>7</th>\n",
       "      <td>25000</td>\n",
       "      <td>66.800000</td>\n",
       "    </tr>\n",
       "    <tr>\n",
       "      <th>8</th>\n",
       "      <td>80000</td>\n",
       "      <td>66.433333</td>\n",
       "    </tr>\n",
       "  </tbody>\n",
       "</table>\n",
       "</div>"
      ],
      "text/plain": [
       "   Income     Height\n",
       "0   40000  60.500000\n",
       "1   35000  59.600000\n",
       "2   45000  66.433333\n",
       "3  150000  73.400000\n",
       "4   90000  65.900000\n",
       "5  150000  72.400000\n",
       "6  115000  66.433333\n",
       "7   25000  66.800000\n",
       "8   80000  66.433333"
      ]
     },
     "execution_count": 130,
     "metadata": {},
     "output_type": "execute_result"
    }
   ],
   "source": [
    "import pandas as pd\n",
    "\n",
    "incomes=[40000,35000,45000,300000,90000,400000,115000,25000,80000]\n",
    "heights=[60.5,59.6,None,73.4,65.9,72.4,None,66.8,None]\n",
    "\n",
    "df = pd.DataFrame({'Income': incomes, 'Height': heights})\n",
    "df.loc[df['Income'] > 150000, 'Income'] = 150000\n",
    "df['Height'].fillna(df['Height'].mean(), inplace=True)\n",
    "\n",
    "df\n"
   ]
  },
  {
   "cell_type": "markdown",
   "metadata": {},
   "source": [
    "Question 6"
   ]
  },
  {
   "cell_type": "code",
   "execution_count": 131,
   "metadata": {},
   "outputs": [
    {
     "name": "stdout",
     "output_type": "stream",
     "text": [
      "    num1  num2  num3  num4  num5  num6  num7  num8  num9  num10  median\n",
      "0     80    99    17    33    49    94    96    70    37     51    60.5\n",
      "1     54    63    30     8     3    73    52    84     8     42    47.0\n",
      "2     93    82    22    55    80    49    44    67    63     55    59.0\n",
      "3     74    31    54    75    11    50    59    85    15     66    56.5\n",
      "4     75    34     4    32    80     8    28    36    85     27    33.0\n",
      "5     92    15    30    68    68    91    31    44    21     22    37.5\n",
      "6     84     5    32    15    50    96    60    23    12     84    41.0\n",
      "7     35    49    75    77    45    75    30    84    35     10    47.0\n",
      "8     52    30     4    72    76    26    48    16    24     53    39.0\n",
      "9     17    75    70    16    23    16    35    65    21     67    29.0\n",
      "10    86    19    65    55    15    95    30    95    69     81    67.0\n",
      "11    29    23    97    19    29    36    14    11    62     15    26.0\n",
      "12    63    49    62    58    46    48    75    97    76     86    62.5\n",
      "13    64    35     8    45    65    49    44    94    32     12    44.5\n",
      "14    23    38    53    45    72    52    19    70    56     45    48.5\n",
      "15    76    53    10    43    67    36    53    41    47     72    50.0\n",
      "16    16    54     1    42    69    65    97    89    32     43    48.5\n",
      "17    59    90    65    46    91    73    53    92    63     17    64.0\n",
      "18    89     1    26    62    16    15    16    28    99     86    27.0\n",
      "19    55    80    82    67    86    54    10    83    57      9    62.0\n",
      "Max value: 67.0 at index 10\n",
      "Median of row medians: 47.75\n",
      "Median of all values: 51.5\n"
     ]
    }
   ],
   "source": [
    "filepath = './data/numbers.csv'\n",
    "numbers = pd.read_csv(filepath)\n",
    "\n",
    "numbers['median'] = numbers.median(axis=1)\n",
    "\n",
    "print(numbers)\n",
    "print('Max value:', numbers['median'].max(), 'at index', numbers['median'].idxmax())\n",
    "print('Median of row medians:', numbers['median'].median())\n",
    "print('Median of all values:', numbers.drop('median', axis=1).stack().median())\n"
   ]
  },
  {
   "cell_type": "markdown",
   "metadata": {},
   "source": [
    "Question 7"
   ]
  },
  {
   "cell_type": "code",
   "execution_count": 132,
   "metadata": {},
   "outputs": [
    {
     "name": "stdout",
     "output_type": "stream",
     "text": [
      "      id  cuisine   price\n",
      "51    52   Korean  $99.80\n",
      "599  600  Spanish  $99.73\n",
      "566  567  Spanish  $99.70\n",
      "625  626  Spanish  $99.06\n",
      "696  697     Thai  $98.90\n"
     ]
    }
   ],
   "source": [
    "filepath = './data/meals.csv'\n",
    "meals = pd.read_csv(filepath)\n",
    "\n",
    "print(meals.sort_values('price', ascending=False).head())\n"
   ]
  },
  {
   "cell_type": "markdown",
   "metadata": {},
   "source": [
    "Question 8"
   ]
  },
  {
   "cell_type": "code",
   "execution_count": 104,
   "metadata": {},
   "outputs": [
    {
     "data": {
      "text/html": [
       "<div>\n",
       "<style scoped>\n",
       "    .dataframe tbody tr th:only-of-type {\n",
       "        vertical-align: middle;\n",
       "    }\n",
       "\n",
       "    .dataframe tbody tr th {\n",
       "        vertical-align: top;\n",
       "    }\n",
       "\n",
       "    .dataframe thead tr th {\n",
       "        text-align: left;\n",
       "    }\n",
       "\n",
       "    .dataframe thead tr:last-of-type th {\n",
       "        text-align: right;\n",
       "    }\n",
       "</style>\n",
       "<table border=\"1\" class=\"dataframe\">\n",
       "  <thead>\n",
       "    <tr>\n",
       "      <th></th>\n",
       "      <th colspan=\"8\" halign=\"left\">price</th>\n",
       "    </tr>\n",
       "    <tr>\n",
       "      <th></th>\n",
       "      <th>count</th>\n",
       "      <th>mean</th>\n",
       "      <th>std</th>\n",
       "      <th>min</th>\n",
       "      <th>25%</th>\n",
       "      <th>50%</th>\n",
       "      <th>75%</th>\n",
       "      <th>max</th>\n",
       "    </tr>\n",
       "    <tr>\n",
       "      <th>cuisine</th>\n",
       "      <th></th>\n",
       "      <th></th>\n",
       "      <th></th>\n",
       "      <th></th>\n",
       "      <th></th>\n",
       "      <th></th>\n",
       "      <th></th>\n",
       "      <th></th>\n",
       "    </tr>\n",
       "  </thead>\n",
       "  <tbody>\n",
       "    <tr>\n",
       "      <th>Indian</th>\n",
       "      <td>107.0</td>\n",
       "      <td>55.74</td>\n",
       "      <td>26.59</td>\n",
       "      <td>6.89</td>\n",
       "      <td>32.06</td>\n",
       "      <td>56.18</td>\n",
       "      <td>78.20</td>\n",
       "      <td>96.59</td>\n",
       "    </tr>\n",
       "    <tr>\n",
       "      <th>Chinese</th>\n",
       "      <td>102.0</td>\n",
       "      <td>52.77</td>\n",
       "      <td>27.31</td>\n",
       "      <td>5.20</td>\n",
       "      <td>27.62</td>\n",
       "      <td>51.38</td>\n",
       "      <td>75.69</td>\n",
       "      <td>98.38</td>\n",
       "    </tr>\n",
       "    <tr>\n",
       "      <th>Lebanese</th>\n",
       "      <td>100.0</td>\n",
       "      <td>52.53</td>\n",
       "      <td>25.84</td>\n",
       "      <td>5.45</td>\n",
       "      <td>29.96</td>\n",
       "      <td>51.38</td>\n",
       "      <td>73.38</td>\n",
       "      <td>98.02</td>\n",
       "    </tr>\n",
       "    <tr>\n",
       "      <th>Greek</th>\n",
       "      <td>105.0</td>\n",
       "      <td>52.28</td>\n",
       "      <td>26.21</td>\n",
       "      <td>6.54</td>\n",
       "      <td>30.81</td>\n",
       "      <td>51.61</td>\n",
       "      <td>73.90</td>\n",
       "      <td>98.37</td>\n",
       "    </tr>\n",
       "    <tr>\n",
       "      <th>Spanish</th>\n",
       "      <td>84.0</td>\n",
       "      <td>52.01</td>\n",
       "      <td>28.74</td>\n",
       "      <td>7.01</td>\n",
       "      <td>29.38</td>\n",
       "      <td>46.64</td>\n",
       "      <td>79.20</td>\n",
       "      <td>99.73</td>\n",
       "    </tr>\n",
       "    <tr>\n",
       "      <th>French</th>\n",
       "      <td>83.0</td>\n",
       "      <td>51.86</td>\n",
       "      <td>25.88</td>\n",
       "      <td>5.93</td>\n",
       "      <td>29.49</td>\n",
       "      <td>54.51</td>\n",
       "      <td>68.43</td>\n",
       "      <td>97.38</td>\n",
       "    </tr>\n",
       "    <tr>\n",
       "      <th>Mexican</th>\n",
       "      <td>109.0</td>\n",
       "      <td>51.34</td>\n",
       "      <td>26.27</td>\n",
       "      <td>5.31</td>\n",
       "      <td>33.25</td>\n",
       "      <td>50.69</td>\n",
       "      <td>73.88</td>\n",
       "      <td>98.42</td>\n",
       "    </tr>\n",
       "    <tr>\n",
       "      <th>Korean</th>\n",
       "      <td>112.0</td>\n",
       "      <td>50.85</td>\n",
       "      <td>29.71</td>\n",
       "      <td>5.17</td>\n",
       "      <td>22.35</td>\n",
       "      <td>49.60</td>\n",
       "      <td>79.58</td>\n",
       "      <td>99.80</td>\n",
       "    </tr>\n",
       "    <tr>\n",
       "      <th>Thai</th>\n",
       "      <td>109.0</td>\n",
       "      <td>50.67</td>\n",
       "      <td>26.98</td>\n",
       "      <td>6.42</td>\n",
       "      <td>28.83</td>\n",
       "      <td>50.46</td>\n",
       "      <td>76.24</td>\n",
       "      <td>98.90</td>\n",
       "    </tr>\n",
       "    <tr>\n",
       "      <th>Italian</th>\n",
       "      <td>89.0</td>\n",
       "      <td>48.76</td>\n",
       "      <td>26.24</td>\n",
       "      <td>5.63</td>\n",
       "      <td>30.53</td>\n",
       "      <td>46.56</td>\n",
       "      <td>69.74</td>\n",
       "      <td>97.62</td>\n",
       "    </tr>\n",
       "  </tbody>\n",
       "</table>\n",
       "</div>"
      ],
      "text/plain": [
       "          price                                                \n",
       "          count   mean    std   min    25%    50%    75%    max\n",
       "cuisine                                                        \n",
       "Indian    107.0  55.74  26.59  6.89  32.06  56.18  78.20  96.59\n",
       "Chinese   102.0  52.77  27.31  5.20  27.62  51.38  75.69  98.38\n",
       "Lebanese  100.0  52.53  25.84  5.45  29.96  51.38  73.38  98.02\n",
       "Greek     105.0  52.28  26.21  6.54  30.81  51.61  73.90  98.37\n",
       "Spanish    84.0  52.01  28.74  7.01  29.38  46.64  79.20  99.73\n",
       "French     83.0  51.86  25.88  5.93  29.49  54.51  68.43  97.38\n",
       "Mexican   109.0  51.34  26.27  5.31  33.25  50.69  73.88  98.42\n",
       "Korean    112.0  50.85  29.71  5.17  22.35  49.60  79.58  99.80\n",
       "Thai      109.0  50.67  26.98  6.42  28.83  50.46  76.24  98.90\n",
       "Italian    89.0  48.76  26.24  5.63  30.53  46.56  69.74  97.62"
      ]
     },
     "execution_count": 104,
     "metadata": {},
     "output_type": "execute_result"
    }
   ],
   "source": [
    "filepath = './data/meals.csv'\n",
    "meals = pd.read_csv(filepath)\n",
    "\n",
    "meals['price'] = pd.to_numeric(meals['price'].str.replace('$', '', regex=False))\n",
    "meals.drop('id', axis=1).groupby('cuisine').describe().round(2).sort_values(('price', 'mean'), ascending=False)\n"
   ]
  },
  {
   "cell_type": "markdown",
   "metadata": {},
   "source": [
    "Question 9"
   ]
  },
  {
   "cell_type": "code",
   "execution_count": 118,
   "metadata": {},
   "outputs": [
    {
     "name": "stdout",
     "output_type": "stream",
     "text": [
      "Fiat              7\n",
      "Toyota            5\n",
      "Ford              4\n",
      "Volkswagen        3\n",
      "Volvo             3\n",
      "Chevrolet         3\n",
      "Geely             3\n",
      "General Motors    3\n",
      "Chrysler          3\n",
      "Skoda             2\n",
      "Suzuki            2\n",
      "Renault           2\n",
      "Honda             2\n",
      "Mercedes          2\n",
      "Bentley           2\n",
      "BMW               2\n",
      "Porsche           2\n",
      "Rolls Royce       2\n",
      "Jeep              2\n",
      "Jaguar            2\n",
      "Hyundai           2\n",
      "Nissan            2\n",
      "Tata              2\n",
      "Trabant           1\n",
      "Name: cars, dtype: int64\n",
      "Eric         6\n",
      "Audrey       6\n",
      "Catherine    6\n",
      "Mary         6\n",
      "Sam          5\n",
      "Nathan       5\n",
      "Chris        5\n",
      "Jim          5\n",
      "Isabel       4\n",
      "Anika        4\n",
      "Julie        4\n",
      "Stephen      4\n",
      "John         3\n",
      "Name: name, dtype: int64\n"
     ]
    }
   ],
   "source": [
    "ownership = pd.DataFrame(\n",
    "    {\n",
    "        \"name\": [\"Sam\",\"Eric\",\"Audrey\",\"Isabel\",\"Anika\",\"Nathan\",\"Catherine\",\n",
    "                 \"Chris\",\"Julie\",\"Stephen\",\"John\",\"Jim\",\"Mary\"],\n",
    "        \"cars\": [\n",
    "            [\"Ford\",\"Toyota\",\"Volkswagen\",\"Nissan\",\"Hyundai\"],\n",
    "            [\"Toyota\",\"Chevrolet\",\"Nissan\",\"Jaguar\",\"Volkswagen\",\"General Motors\"],\n",
    "            [\"Jeep\",\"Ford\",\"Chrysler\",\"Fiat\",\"General Motors\",\"Volkswagen\"],\n",
    "            [\"Rolls Royce\",\"Bentley\",\"Porsche\",\"BMW\"],\n",
    "            [\"Toyota\", \"Chevrolet\", \"Hyundai\",\"Fiat\"],\n",
    "            [\"Trabant\", \"Skoda\", \"Mercedes\",\"Honda\",\"General Motors\"],\n",
    "            [\"Renault\", \"Geely\", \"Volvo\",\"Skoda\",\"Suzuki\",\"Honda\"],\n",
    "            [\"Ford\",\"Toyota\",\"Tata\",\"Suzuki\",\"Mercedes\"],\n",
    "            [\"Fiat\", \"Rolls Royce\", \"Tata\",\"BMW\"],\n",
    "            [\"Chrysler\", \"Jaguar\", \"Volvo\",\"Fiat\"],\n",
    "            [\"Geely\", \"Jeep\", \"Fiat\"],\n",
    "            [\"Chevrolet\", \"Volvo\", \"Fiat\",\"Geely\",\"Ford\"],\n",
    "            [\"Toyota\", \"Fiat\", \"Chrysler\",\"Bentley\",\"Porsche\",\"Renault\"],\n",
    "        ],\n",
    "    }\n",
    ")\n",
    "\n",
    "print(ownership.explode('cars')['cars'].value_counts())\n",
    "print(ownership.explode('cars')['name'].value_counts())"
   ]
  },
  {
   "cell_type": "markdown",
   "metadata": {},
   "source": [
    "Question 10"
   ]
  },
  {
   "cell_type": "code",
   "execution_count": 117,
   "metadata": {},
   "outputs": [
    {
     "data": {
      "text/html": [
       "<div>\n",
       "<style scoped>\n",
       "    .dataframe tbody tr th:only-of-type {\n",
       "        vertical-align: middle;\n",
       "    }\n",
       "\n",
       "    .dataframe tbody tr th {\n",
       "        vertical-align: top;\n",
       "    }\n",
       "\n",
       "    .dataframe thead th {\n",
       "        text-align: right;\n",
       "    }\n",
       "</style>\n",
       "<table border=\"1\" class=\"dataframe\">\n",
       "  <thead>\n",
       "    <tr style=\"text-align: right;\">\n",
       "      <th></th>\n",
       "      <th>date</th>\n",
       "      <th>open</th>\n",
       "      <th>high</th>\n",
       "      <th>low</th>\n",
       "      <th>close</th>\n",
       "      <th>adj close</th>\n",
       "      <th>volume</th>\n",
       "      <th>ticker</th>\n",
       "      <th>spread</th>\n",
       "    </tr>\n",
       "  </thead>\n",
       "  <tbody>\n",
       "    <tr>\n",
       "      <th>25</th>\n",
       "      <td>2022-10-04</td>\n",
       "      <td>145.029999</td>\n",
       "      <td>146.220001</td>\n",
       "      <td>144.259995</td>\n",
       "      <td>146.100006</td>\n",
       "      <td>146.100006</td>\n",
       "      <td>87830100</td>\n",
       "      <td>AAPL</td>\n",
       "      <td>1.960007</td>\n",
       "    </tr>\n",
       "    <tr>\n",
       "      <th>31</th>\n",
       "      <td>2022-10-12</td>\n",
       "      <td>139.130005</td>\n",
       "      <td>140.360001</td>\n",
       "      <td>138.160004</td>\n",
       "      <td>138.339996</td>\n",
       "      <td>138.339996</td>\n",
       "      <td>70433700</td>\n",
       "      <td>AAPL</td>\n",
       "      <td>2.199997</td>\n",
       "    </tr>\n",
       "    <tr>\n",
       "      <th>27</th>\n",
       "      <td>2022-10-06</td>\n",
       "      <td>145.809998</td>\n",
       "      <td>147.539993</td>\n",
       "      <td>145.220001</td>\n",
       "      <td>145.429993</td>\n",
       "      <td>145.429993</td>\n",
       "      <td>68402200</td>\n",
       "      <td>AAPL</td>\n",
       "      <td>2.319992</td>\n",
       "    </tr>\n",
       "    <tr>\n",
       "      <th>34</th>\n",
       "      <td>2022-10-17</td>\n",
       "      <td>141.070007</td>\n",
       "      <td>142.899994</td>\n",
       "      <td>140.270004</td>\n",
       "      <td>142.410004</td>\n",
       "      <td>142.410004</td>\n",
       "      <td>85250900</td>\n",
       "      <td>AAPL</td>\n",
       "      <td>2.629990</td>\n",
       "    </tr>\n",
       "    <tr>\n",
       "      <th>30</th>\n",
       "      <td>2022-10-11</td>\n",
       "      <td>139.899994</td>\n",
       "      <td>141.350006</td>\n",
       "      <td>138.220001</td>\n",
       "      <td>138.979996</td>\n",
       "      <td>138.979996</td>\n",
       "      <td>77033700</td>\n",
       "      <td>AAPL</td>\n",
       "      <td>3.130005</td>\n",
       "    </tr>\n",
       "    <tr>\n",
       "      <th>...</th>\n",
       "      <td>...</td>\n",
       "      <td>...</td>\n",
       "      <td>...</td>\n",
       "      <td>...</td>\n",
       "      <td>...</td>\n",
       "      <td>...</td>\n",
       "      <td>...</td>\n",
       "      <td>...</td>\n",
       "      <td>...</td>\n",
       "    </tr>\n",
       "    <tr>\n",
       "      <th>61</th>\n",
       "      <td>2022-10-24</td>\n",
       "      <td>205.820007</td>\n",
       "      <td>213.500000</td>\n",
       "      <td>198.589996</td>\n",
       "      <td>211.250000</td>\n",
       "      <td>211.250000</td>\n",
       "      <td>100446800</td>\n",
       "      <td>TSLA</td>\n",
       "      <td>14.910004</td>\n",
       "    </tr>\n",
       "    <tr>\n",
       "      <th>47</th>\n",
       "      <td>2022-10-04</td>\n",
       "      <td>250.520004</td>\n",
       "      <td>257.500000</td>\n",
       "      <td>242.009995</td>\n",
       "      <td>249.440002</td>\n",
       "      <td>249.440002</td>\n",
       "      <td>109578500</td>\n",
       "      <td>TSLA</td>\n",
       "      <td>15.490005</td>\n",
       "    </tr>\n",
       "    <tr>\n",
       "      <th>54</th>\n",
       "      <td>2022-10-13</td>\n",
       "      <td>208.300003</td>\n",
       "      <td>222.990005</td>\n",
       "      <td>206.220001</td>\n",
       "      <td>221.720001</td>\n",
       "      <td>221.720001</td>\n",
       "      <td>91483000</td>\n",
       "      <td>TSLA</td>\n",
       "      <td>16.770004</td>\n",
       "    </tr>\n",
       "    <tr>\n",
       "      <th>44</th>\n",
       "      <td>2022-09-29</td>\n",
       "      <td>282.760010</td>\n",
       "      <td>283.649994</td>\n",
       "      <td>265.779999</td>\n",
       "      <td>268.209991</td>\n",
       "      <td>268.209991</td>\n",
       "      <td>77620600</td>\n",
       "      <td>TSLA</td>\n",
       "      <td>17.869995</td>\n",
       "    </tr>\n",
       "    <tr>\n",
       "      <th>55</th>\n",
       "      <td>2022-10-14</td>\n",
       "      <td>224.009995</td>\n",
       "      <td>226.259995</td>\n",
       "      <td>204.160004</td>\n",
       "      <td>204.990005</td>\n",
       "      <td>204.990005</td>\n",
       "      <td>93898700</td>\n",
       "      <td>TSLA</td>\n",
       "      <td>22.099991</td>\n",
       "    </tr>\n",
       "  </tbody>\n",
       "</table>\n",
       "<p>132 rows × 9 columns</p>\n",
       "</div>"
      ],
      "text/plain": [
       "          date        open        high         low       close   adj close  \\\n",
       "25  2022-10-04  145.029999  146.220001  144.259995  146.100006  146.100006   \n",
       "31  2022-10-12  139.130005  140.360001  138.160004  138.339996  138.339996   \n",
       "27  2022-10-06  145.809998  147.539993  145.220001  145.429993  145.429993   \n",
       "34  2022-10-17  141.070007  142.899994  140.270004  142.410004  142.410004   \n",
       "30  2022-10-11  139.899994  141.350006  138.220001  138.979996  138.979996   \n",
       "..         ...         ...         ...         ...         ...         ...   \n",
       "61  2022-10-24  205.820007  213.500000  198.589996  211.250000  211.250000   \n",
       "47  2022-10-04  250.520004  257.500000  242.009995  249.440002  249.440002   \n",
       "54  2022-10-13  208.300003  222.990005  206.220001  221.720001  221.720001   \n",
       "44  2022-09-29  282.760010  283.649994  265.779999  268.209991  268.209991   \n",
       "55  2022-10-14  224.009995  226.259995  204.160004  204.990005  204.990005   \n",
       "\n",
       "       volume ticker     spread  \n",
       "25   87830100   AAPL   1.960007  \n",
       "31   70433700   AAPL   2.199997  \n",
       "27   68402200   AAPL   2.319992  \n",
       "34   85250900   AAPL   2.629990  \n",
       "30   77033700   AAPL   3.130005  \n",
       "..        ...    ...        ...  \n",
       "61  100446800   TSLA  14.910004  \n",
       "47  109578500   TSLA  15.490005  \n",
       "54   91483000   TSLA  16.770004  \n",
       "44   77620600   TSLA  17.869995  \n",
       "55   93898700   TSLA  22.099991  \n",
       "\n",
       "[132 rows x 9 columns]"
      ]
     },
     "execution_count": 117,
     "metadata": {},
     "output_type": "execute_result"
    }
   ],
   "source": [
    "filepath = './data/stock_prices.csv'\n",
    "stocks = pd.read_csv(filepath)\n",
    "\n",
    "stocks['spread'] = stocks['high'] - stocks['low']\n",
    "stocks.sort_values(['ticker', 'spread'], inplace=True)\n",
    "stocks"
   ]
  }
 ],
 "metadata": {
  "colab": {
   "authorship_tag": "ABX9TyO+wWunuTY40PHeHh1JA6WG",
   "provenance": []
  },
  "kernelspec": {
   "display_name": "Python 3 (ipykernel)",
   "language": "python",
   "name": "python3"
  },
  "language_info": {
   "codemirror_mode": {
    "name": "ipython",
    "version": 3
   },
   "file_extension": ".py",
   "mimetype": "text/x-python",
   "name": "python",
   "nbconvert_exporter": "python",
   "pygments_lexer": "ipython3",
   "version": "3.11.4"
  }
 },
 "nbformat": 4,
 "nbformat_minor": 1
}
